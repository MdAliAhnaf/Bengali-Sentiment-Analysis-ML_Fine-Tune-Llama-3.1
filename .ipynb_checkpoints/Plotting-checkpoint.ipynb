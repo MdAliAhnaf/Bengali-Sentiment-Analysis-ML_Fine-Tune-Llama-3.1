{
 "cells": [
  {
   "cell_type": "code",
   "execution_count": null,
   "id": "6fcb10c0-8106-4b74-adfe-764c6d40e209",
   "metadata": {},
   "outputs": [],
   "source": []
  }
 ],
 "metadata": {
  "kernelspec": {
   "display_name": "Python 3.10 (tensorflow)",
   "language": "python",
   "name": "tensorflow-py3.10"
  },
  "language_info": {
   "codemirror_mode": {
    "name": "ipython",
    "version": 3
   },
   "file_extension": ".py",
   "mimetype": "text/x-python",
   "name": "python",
   "nbconvert_exporter": "python",
   "pygments_lexer": "ipython3",
   "version": "3.10.13"
  }
 },
 "nbformat": 4,
 "nbformat_minor": 5
}
